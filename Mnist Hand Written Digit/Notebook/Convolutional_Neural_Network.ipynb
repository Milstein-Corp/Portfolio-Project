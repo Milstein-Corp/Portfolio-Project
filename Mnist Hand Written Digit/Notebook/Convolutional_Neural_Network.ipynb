{
  "nbformat": 4,
  "nbformat_minor": 0,
  "metadata": {
    "colab": {
      "name": "Convolutional Neural Network.ipynb",
      "provenance": [],
      "collapsed_sections": [],
      "toc_visible": true
    },
    "kernelspec": {
      "name": "python3",
      "display_name": "Python 3"
    },
    "accelerator": "GPU"
  },
  "cells": [
    {
      "cell_type": "markdown",
      "metadata": {
        "id": "Ta0TkZxeJKdO",
        "colab_type": "text"
      },
      "source": [
        "Mnist Dataset"
      ]
    },
    {
      "cell_type": "code",
      "metadata": {
        "id": "737r8bmZHUaQ",
        "colab_type": "code",
        "colab": {}
      },
      "source": [
        "import numpy as np\n",
        "import pandas as pd\n",
        "from matplotlib import pyplot as plt\n",
        "%matplotlib inline"
      ],
      "execution_count": 0,
      "outputs": []
    },
    {
      "cell_type": "code",
      "metadata": {
        "id": "E9sTc5DYLkk2",
        "colab_type": "code",
        "colab": {}
      },
      "source": [
        "import tensorflow as tf\n",
        "from tensorflow import keras\n",
        "from tensorflow.keras.models import Sequential\n",
        "from tensorflow.keras.layers import Dense, Dropout, Lambda, Flatten"
      ],
      "execution_count": 0,
      "outputs": []
    },
    {
      "cell_type": "code",
      "metadata": {
        "id": "FXZpG3nMMB9d",
        "colab_type": "code",
        "outputId": "0759d1a2-0ac8-4e52-bd5c-7efecd605cf8",
        "colab": {
          "base_uri": "https://localhost:8080/",
          "height": 35
        }
      },
      "source": [
        "from tensorflow.keras.optimizers import Adam, RMSprop\n",
        "from sklearn.model_selection import train_test_split\n",
        "from tensorflow.keras import backend as K\n",
        "from keras.preprocessing.image import ImageDataGenerator"
      ],
      "execution_count": 3,
      "outputs": [
        {
          "output_type": "stream",
          "text": [
            "Using TensorFlow backend.\n"
          ],
          "name": "stderr"
        }
      ]
    },
    {
      "cell_type": "code",
      "metadata": {
        "id": "2639FsH5MuXG",
        "colab_type": "code",
        "colab": {}
      },
      "source": [
        "from tensorflow.keras.datasets import mnist"
      ],
      "execution_count": 0,
      "outputs": []
    },
    {
      "cell_type": "code",
      "metadata": {
        "id": "kDFAIgGjNEoE",
        "colab_type": "code",
        "outputId": "c05d5abb-52e6-45bc-c94f-983d57b17c5a",
        "colab": {
          "base_uri": "https://localhost:8080/",
          "height": 53
        }
      },
      "source": [
        "(X,y),(testX,testy) = mnist.load_data()"
      ],
      "execution_count": 5,
      "outputs": [
        {
          "output_type": "stream",
          "text": [
            "Downloading data from https://storage.googleapis.com/tensorflow/tf-keras-datasets/mnist.npz\n",
            "11493376/11490434 [==============================] - 1s 0us/step\n"
          ],
          "name": "stdout"
        }
      ]
    },
    {
      "cell_type": "code",
      "metadata": {
        "id": "3DWvo0wiNOvJ",
        "colab_type": "code",
        "outputId": "b22a98de-30d5-4490-a7ec-d582d831330f",
        "colab": {
          "base_uri": "https://localhost:8080/",
          "height": 53
        }
      },
      "source": [
        "print(f\"Shape Of Training Data : {X.shape}\")\n",
        "print(f\"Shape Of Testing Data : {testX.shape}\")"
      ],
      "execution_count": 6,
      "outputs": [
        {
          "output_type": "stream",
          "text": [
            "Shape Of Training Data : (60000, 28, 28)\n",
            "Shape Of Testing Data : (10000, 28, 28)\n"
          ],
          "name": "stdout"
        }
      ]
    },
    {
      "cell_type": "code",
      "metadata": {
        "id": "vugdWPBJNP8T",
        "colab_type": "code",
        "outputId": "00b0c92a-efd1-419a-bd4b-62599ce67030",
        "colab": {
          "base_uri": "https://localhost:8080/",
          "height": 53
        }
      },
      "source": [
        "print(f\"Shape Of Target Data : {y.shape}\")\n",
        "print(f\"Shape Of target Data : {testy.shape}\")"
      ],
      "execution_count": 7,
      "outputs": [
        {
          "output_type": "stream",
          "text": [
            "Shape Of Target Data : (60000,)\n",
            "Shape Of target Data : (10000,)\n"
          ],
          "name": "stdout"
        }
      ]
    },
    {
      "cell_type": "code",
      "metadata": {
        "id": "XVJwz_1_OSiB",
        "colab_type": "code",
        "colab": {}
      },
      "source": [
        "X = X.astype('float32')\n",
        "testX = testX.astype('float32')"
      ],
      "execution_count": 0,
      "outputs": []
    },
    {
      "cell_type": "code",
      "metadata": {
        "id": "2o9WKQcxO_aJ",
        "colab_type": "code",
        "colab": {}
      },
      "source": [
        "# Convert train dataset to (num_images, img_row,img_col) format"
      ],
      "execution_count": 0,
      "outputs": []
    },
    {
      "cell_type": "code",
      "metadata": {
        "id": "vqiHx9RGOpvL",
        "colab_type": "code",
        "colab": {}
      },
      "source": [
        "X = X.reshape(X.shape[0], 28, 28)"
      ],
      "execution_count": 0,
      "outputs": []
    },
    {
      "cell_type": "code",
      "metadata": {
        "id": "nwuSAI8JPiPm",
        "colab_type": "code",
        "outputId": "4721ebc1-e84e-4320-f9a2-029959fa6efb",
        "colab": {
          "base_uri": "https://localhost:8080/",
          "height": 128
        }
      },
      "source": [
        "for i in range(6,9):\n",
        "  plt.subplot(330 + (i+1))\n",
        "  plt.imshow(X[i], cmap=plt.get_cmap('gray'))\n",
        "  plt.title(y[i])"
      ],
      "execution_count": 11,
      "outputs": [
        {
          "output_type": "display_data",
          "data": {
            "image/png": "[encoded data removed]",
            "text/plain": [
              "<Figure size 432x288 with 3 Axes>"
            ]
          },
          "metadata": {
            "tags": [],
            "needs_background": "light"
          }
        }
      ]
    },
    {
      "cell_type": "code",
      "metadata": {
        "id": "VptykOkKP5tA",
        "colab_type": "code",
        "colab": {}
      },
      "source": [
        "# Expand 1 more dimention as 1 for color channel gray "
      ],
      "execution_count": 0,
      "outputs": []
    },
    {
      "cell_type": "code",
      "metadata": {
        "id": "SWqdAefnQWhH",
        "colab_type": "code",
        "colab": {}
      },
      "source": [
        "X = X.reshape(X.shape[0], 28, 28, 1)\n",
        "testX = testX.reshape(testX.shape[0], 28, 28, 1)"
      ],
      "execution_count": 0,
      "outputs": []
    },
    {
      "cell_type": "code",
      "metadata": {
        "id": "T7GoBruKQvZ7",
        "colab_type": "code",
        "outputId": "e09254dd-60fc-454c-87d3-f425c0b354b9",
        "colab": {
          "base_uri": "https://localhost:8080/",
          "height": 53
        }
      },
      "source": [
        "print(f\"Shape Of Training Data : {X.shape}\")\n",
        "print(f\"Shape Of Testing Data : {testX.shape}\")"
      ],
      "execution_count": 14,
      "outputs": [
        {
          "output_type": "stream",
          "text": [
            "Shape Of Training Data : (60000, 28, 28, 1)\n",
            "Shape Of Testing Data : (10000, 28, 28, 1)\n"
          ],
          "name": "stdout"
        }
      ]
    },
    {
      "cell_type": "code",
      "metadata": {
        "id": "9tIeAqJZQzRu",
        "colab_type": "code",
        "colab": {}
      },
      "source": [
        "# One Hot Encoding of Labels"
      ],
      "execution_count": 0,
      "outputs": []
    },
    {
      "cell_type": "code",
      "metadata": {
        "id": "e3RcD2URRPTO",
        "colab_type": "code",
        "colab": {}
      },
      "source": [
        "from keras.utils.np_utils import to_categorical\n",
        "y = to_categorical(y)\n",
        "num_classes = y.shape[1]"
      ],
      "execution_count": 0,
      "outputs": []
    },
    {
      "cell_type": "code",
      "metadata": {
        "id": "BK905cXhRxxN",
        "colab_type": "code",
        "outputId": "df7538ec-4c37-4336-98e8-7523dd58c778",
        "colab": {
          "base_uri": "https://localhost:8080/",
          "height": 535
        }
      },
      "source": [
        "plt.title(y[3])\n",
        "plt.plot(y[3])\n",
        "plt.xticks(range(10))"
      ],
      "execution_count": 17,
      "outputs": [
        {
          "output_type": "stream",
          "text": [
            "/usr/local/lib/python3.6/dist-packages/matplotlib/text.py:1165: FutureWarning: elementwise comparison failed; returning scalar instead, but in the future will perform elementwise comparison\n",
            "  if s != self._text:\n"
          ],
          "name": "stderr"
        },
        {
          "output_type": "execute_result",
          "data": {
            "text/plain": [
              "([<matplotlib.axis.XTick at 0x7f96b272b4a8>,\n",
              "  <matplotlib.axis.XTick at 0x7f96b272b8d0>,\n",
              "  <matplotlib.axis.XTick at 0x7f96b27369b0>,\n",
              "  <matplotlib.axis.XTick at 0x7f96b22926a0>,\n",
              "  <matplotlib.axis.XTick at 0x7f96b2292b38>,\n",
              "  <matplotlib.axis.XTick at 0x7f96b2292d68>,\n",
              "  <matplotlib.axis.XTick at 0x7f96b224a240>,\n",
              "  <matplotlib.axis.XTick at 0x7f96b224a6a0>,\n",
              "  <matplotlib.axis.XTick at 0x7f96b224ab38>,\n",
              "  <matplotlib.axis.XTick at 0x7f96b224ad68>],\n",
              " <a list of 10 Text major ticklabel objects>)"
            ]
          },
          "metadata": {
            "tags": []
          },
          "execution_count": 17
        },
        {
          "output_type": "display_data",
          "data": {
            "image/png": "[encoded data removed]",
            "text/plain": [
              "<Figure size 432x288 with 1 Axes>"
            ]
          },
          "metadata": {
            "tags": [],
            "needs_background": "light"
          }
        }
      ]
    },
    {
      "cell_type": "code",
      "metadata": {
        "id": "hKqlmT4pSC9T",
        "colab_type": "code",
        "colab": {}
      },
      "source": [
        "np.random.seed(2020)"
      ],
      "execution_count": 0,
      "outputs": []
    },
    {
      "cell_type": "markdown",
      "metadata": {
        "id": "-E2HY5LXTQEN",
        "colab_type": "text"
      },
      "source": [
        "- Flatten will transform input 1D array\n",
        "- Dense Is Fully Connected Layers"
      ]
    },
    {
      "cell_type": "markdown",
      "metadata": {
        "id": "P9MuzeT4VluY",
        "colab_type": "text"
      },
      "source": [
        "## Comple Network\n",
        "Before Making network ready for training we have to make sure to add below things.\n",
        "- Loss Function \n",
        "- An Optimizer\n",
        "- Metrics"
      ]
    },
    {
      "cell_type": "code",
      "metadata": {
        "id": "HSthHLGsg2y1",
        "colab_type": "code",
        "colab": {}
      },
      "source": [
        "from tensorflow.keras.layers import Convolution2D, MaxPooling2D,Dropout"
      ],
      "execution_count": 0,
      "outputs": []
    },
    {
      "cell_type": "code",
      "metadata": {
        "id": "tj1O2gk23LBE",
        "colab_type": "code",
        "colab": {}
      },
      "source": [
        "epochs = 50\n",
        "batch_size = 128"
      ],
      "execution_count": 0,
      "outputs": []
    },
    {
      "cell_type": "code",
      "metadata": {
        "id": "g6EWz7uQcPnR",
        "colab_type": "code",
        "colab": {}
      },
      "source": [
        "model = Sequential()\n",
        "model.add(Convolution2D(64, kernel_size=(3,3), activation = 'relu', input_shape= (28, 28 ,1) ))\n",
        "model.add(MaxPooling2D(pool_size = (2, 2)))\n",
        "\n",
        "model.add(Convolution2D(64, kernel_size = (3, 3), activation = 'relu'))\n",
        "model.add(MaxPooling2D(pool_size = (2, 2)))\n",
        "\n",
        "model.add(Convolution2D(64, kernel_size = (3, 3), activation = 'relu'))\n",
        "model.add(MaxPooling2D(pool_size = (2, 2)))\n",
        "\n",
        "model.add(Flatten())\n",
        "model.add(Dense(128, activation = 'relu'))\n",
        "model.add(Dropout(0.20))\n",
        "\n",
        "model.add(Dense(num_classes, activation = 'softmax'))"
      ],
      "execution_count": 0,
      "outputs": []
    },
    {
      "cell_type": "code",
      "metadata": {
        "id": "uESoijoYmr0h",
        "colab_type": "code",
        "colab": {}
      },
      "source": [
        "model.compile(loss = keras.losses.categorical_crossentropy, optimizer=keras.optimizers.Adam(),\n",
        "              metrics=['accuracy'])"
      ],
      "execution_count": 0,
      "outputs": []
    },
    {
      "cell_type": "code",
      "metadata": {
        "id": "JMQadhCgMYDH",
        "colab_type": "code",
        "colab": {}
      },
      "source": [
        "model.optimizer.lr = 0.01"
      ],
      "execution_count": 0,
      "outputs": []
    },
    {
      "cell_type": "code",
      "metadata": {
        "id": "M1d0U_-eeNE1",
        "colab_type": "code",
        "outputId": "85c7cc3f-d1da-48fc-d1ca-d4c78810dd82",
        "colab": {
          "base_uri": "https://localhost:8080/",
          "height": 53
        }
      },
      "source": [
        "print(f'InputShape : {model.input_shape}')\n",
        "print(f'outputShape :{model.output_shape}')"
      ],
      "execution_count": 24,
      "outputs": [
        {
          "output_type": "stream",
          "text": [
            "InputShape : (None, 28, 28, 1)\n",
            "outputShape :(None, 10)\n"
          ],
          "name": "stdout"
        }
      ]
    },
    {
      "cell_type": "code",
      "metadata": {
        "id": "fnmJHB9U0VfE",
        "colab_type": "code",
        "outputId": "17ad5849-ebbe-4f81-aa8c-58792dcb9748",
        "colab": {
          "base_uri": "https://localhost:8080/",
          "height": 521
        }
      },
      "source": [
        "model.summary()"
      ],
      "execution_count": 25,
      "outputs": [
        {
          "output_type": "stream",
          "text": [
            "Model: \"sequential\"\n",
            "_________________________________________________________________\n",
            "Layer (type)                 Output Shape              Param #   \n",
            "=================================================================\n",
            "conv2d (Conv2D)              (None, 26, 26, 64)        640       \n",
            "_________________________________________________________________\n",
            "max_pooling2d (MaxPooling2D) (None, 13, 13, 64)        0         \n",
            "_________________________________________________________________\n",
            "conv2d_1 (Conv2D)            (None, 11, 11, 64)        36928     \n",
            "_________________________________________________________________\n",
            "max_pooling2d_1 (MaxPooling2 (None, 5, 5, 64)          0         \n",
            "_________________________________________________________________\n",
            "conv2d_2 (Conv2D)            (None, 3, 3, 64)          36928     \n",
            "_________________________________________________________________\n",
            "max_pooling2d_2 (MaxPooling2 (None, 1, 1, 64)          0         \n",
            "_________________________________________________________________\n",
            "flatten (Flatten)            (None, 64)                0         \n",
            "_________________________________________________________________\n",
            "dense (Dense)                (None, 128)               8320      \n",
            "_________________________________________________________________\n",
            "dropout (Dropout)            (None, 128)               0         \n",
            "_________________________________________________________________\n",
            "dense_1 (Dense)              (None, 10)                1290      \n",
            "=================================================================\n",
            "Total params: 84,106\n",
            "Trainable params: 84,106\n",
            "Non-trainable params: 0\n",
            "_________________________________________________________________\n"
          ],
          "name": "stdout"
        }
      ]
    },
    {
      "cell_type": "code",
      "metadata": {
        "id": "9K2PTJEpx3kT",
        "colab_type": "code",
        "colab": {}
      },
      "source": [
        "from sklearn.model_selection import train_test_split\n",
        "train_x, val_x, train_y, val_y = train_test_split(X, y, test_size = 0.3, random_state = 101)"
      ],
      "execution_count": 0,
      "outputs": []
    },
    {
      "cell_type": "code",
      "metadata": {
        "id": "Y-8qJ7yIjl7l",
        "colab_type": "code",
        "outputId": "ae1f5d61-7eae-4873-c8cf-59093765970d",
        "colab": {
          "base_uri": "https://localhost:8080/",
          "height": 1000
        }
      },
      "source": [
        "history = model.fit(train_x, train_y, validation_data = (val_x, val_y), epochs=epochs, batch_size=batch_size)"
      ],
      "execution_count": 27,
      "outputs": [
        {
          "output_type": "stream",
          "text": [
            "Epoch 1/50\n",
            "329/329 [==============================] - 3s 8ms/step - loss: 1.3482 - accuracy: 0.7998 - val_loss: 0.1973 - val_accuracy: 0.9459\n",
            "Epoch 2/50\n",
            "329/329 [==============================] - 2s 7ms/step - loss: 0.1966 - accuracy: 0.9438 - val_loss: 0.2206 - val_accuracy: 0.9359\n",
            "Epoch 3/50\n",
            "329/329 [==============================] - 2s 7ms/step - loss: 0.1755 - accuracy: 0.9502 - val_loss: 0.1904 - val_accuracy: 0.9448\n",
            "Epoch 4/50\n",
            "329/329 [==============================] - 2s 7ms/step - loss: 0.1645 - accuracy: 0.9547 - val_loss: 0.1891 - val_accuracy: 0.9500\n",
            "Epoch 5/50\n",
            "329/329 [==============================] - 2s 7ms/step - loss: 0.1618 - accuracy: 0.9555 - val_loss: 0.1786 - val_accuracy: 0.9598\n",
            "Epoch 6/50\n",
            "329/329 [==============================] - 2s 7ms/step - loss: 0.1631 - accuracy: 0.9559 - val_loss: 0.2560 - val_accuracy: 0.9338\n",
            "Epoch 7/50\n",
            "329/329 [==============================] - 2s 7ms/step - loss: 0.1487 - accuracy: 0.9605 - val_loss: 0.1607 - val_accuracy: 0.9613\n",
            "Epoch 8/50\n",
            "329/329 [==============================] - 2s 7ms/step - loss: 0.1664 - accuracy: 0.9573 - val_loss: 0.1591 - val_accuracy: 0.9602\n",
            "Epoch 9/50\n",
            "329/329 [==============================] - 2s 7ms/step - loss: 0.1748 - accuracy: 0.9562 - val_loss: 0.1696 - val_accuracy: 0.9581\n",
            "Epoch 10/50\n",
            "329/329 [==============================] - 2s 7ms/step - loss: 0.1531 - accuracy: 0.9614 - val_loss: 0.1976 - val_accuracy: 0.9556\n",
            "Epoch 11/50\n",
            "329/329 [==============================] - 2s 7ms/step - loss: 0.1606 - accuracy: 0.9603 - val_loss: 0.1840 - val_accuracy: 0.9563\n",
            "Epoch 12/50\n",
            "329/329 [==============================] - 2s 7ms/step - loss: 0.1723 - accuracy: 0.9584 - val_loss: 0.1661 - val_accuracy: 0.9610\n",
            "Epoch 13/50\n",
            "329/329 [==============================] - 2s 7ms/step - loss: 0.1797 - accuracy: 0.9560 - val_loss: 0.2112 - val_accuracy: 0.9499\n",
            "Epoch 14/50\n",
            "329/329 [==============================] - 2s 7ms/step - loss: 0.1845 - accuracy: 0.9562 - val_loss: 0.1927 - val_accuracy: 0.9531\n",
            "Epoch 15/50\n",
            "329/329 [==============================] - 2s 7ms/step - loss: 0.1812 - accuracy: 0.9567 - val_loss: 0.2232 - val_accuracy: 0.9608\n",
            "Epoch 16/50\n",
            "329/329 [==============================] - 2s 7ms/step - loss: 0.1860 - accuracy: 0.9575 - val_loss: 0.2026 - val_accuracy: 0.9580\n",
            "Epoch 17/50\n",
            "329/329 [==============================] - 2s 7ms/step - loss: 0.1984 - accuracy: 0.9555 - val_loss: 0.2590 - val_accuracy: 0.9553\n",
            "Epoch 18/50\n",
            "329/329 [==============================] - 2s 7ms/step - loss: 0.2976 - accuracy: 0.9375 - val_loss: 0.2482 - val_accuracy: 0.9557\n",
            "Epoch 19/50\n",
            "329/329 [==============================] - 2s 7ms/step - loss: 0.1824 - accuracy: 0.9584 - val_loss: 0.2196 - val_accuracy: 0.9606\n",
            "Epoch 20/50\n",
            "329/329 [==============================] - 2s 7ms/step - loss: 0.2232 - accuracy: 0.9480 - val_loss: 0.2447 - val_accuracy: 0.9528\n",
            "Epoch 21/50\n",
            "329/329 [==============================] - 2s 7ms/step - loss: 0.2149 - accuracy: 0.9505 - val_loss: 0.2909 - val_accuracy: 0.9491\n",
            "Epoch 22/50\n",
            "329/329 [==============================] - 2s 7ms/step - loss: 0.2360 - accuracy: 0.9463 - val_loss: 0.3174 - val_accuracy: 0.9484\n",
            "Epoch 23/50\n",
            "329/329 [==============================] - 2s 7ms/step - loss: 0.2532 - accuracy: 0.9435 - val_loss: 0.2798 - val_accuracy: 0.9517\n",
            "Epoch 24/50\n",
            "329/329 [==============================] - 2s 7ms/step - loss: 0.2532 - accuracy: 0.9434 - val_loss: 0.2905 - val_accuracy: 0.9575\n",
            "Epoch 25/50\n",
            "329/329 [==============================] - 2s 7ms/step - loss: 0.2945 - accuracy: 0.9320 - val_loss: 0.3305 - val_accuracy: 0.9401\n",
            "Epoch 26/50\n",
            "329/329 [==============================] - 2s 7ms/step - loss: 0.2721 - accuracy: 0.9386 - val_loss: 0.3323 - val_accuracy: 0.9532\n",
            "Epoch 27/50\n",
            "329/329 [==============================] - 2s 7ms/step - loss: 0.2402 - accuracy: 0.9453 - val_loss: 0.3683 - val_accuracy: 0.9494\n",
            "Epoch 28/50\n",
            "329/329 [==============================] - 2s 7ms/step - loss: 0.2871 - accuracy: 0.9343 - val_loss: 0.3125 - val_accuracy: 0.9481\n",
            "Epoch 29/50\n",
            "329/329 [==============================] - 2s 7ms/step - loss: 0.2696 - accuracy: 0.9350 - val_loss: 0.3131 - val_accuracy: 0.9527\n",
            "Epoch 30/50\n",
            "329/329 [==============================] - 2s 7ms/step - loss: 0.4123 - accuracy: 0.9113 - val_loss: 0.3558 - val_accuracy: 0.9227\n",
            "Epoch 31/50\n",
            "329/329 [==============================] - 2s 7ms/step - loss: 0.3192 - accuracy: 0.9292 - val_loss: 0.3793 - val_accuracy: 0.9257\n",
            "Epoch 32/50\n",
            "329/329 [==============================] - 2s 7ms/step - loss: 0.2602 - accuracy: 0.9404 - val_loss: 0.2721 - val_accuracy: 0.9526\n",
            "Epoch 33/50\n",
            "329/329 [==============================] - 2s 7ms/step - loss: 0.2179 - accuracy: 0.9491 - val_loss: 0.3221 - val_accuracy: 0.9482\n",
            "Epoch 34/50\n",
            "329/329 [==============================] - 2s 7ms/step - loss: 0.3001 - accuracy: 0.9337 - val_loss: 0.7205 - val_accuracy: 0.8653\n",
            "Epoch 35/50\n",
            "329/329 [==============================] - 2s 7ms/step - loss: 0.3393 - accuracy: 0.9173 - val_loss: 0.5076 - val_accuracy: 0.9314\n",
            "Epoch 36/50\n",
            "329/329 [==============================] - 2s 7ms/step - loss: 0.3843 - accuracy: 0.9021 - val_loss: 0.4944 - val_accuracy: 0.9306\n",
            "Epoch 37/50\n",
            "329/329 [==============================] - 2s 7ms/step - loss: 0.3716 - accuracy: 0.9127 - val_loss: 0.4668 - val_accuracy: 0.9369\n",
            "Epoch 38/50\n",
            "329/329 [==============================] - 2s 8ms/step - loss: 0.3029 - accuracy: 0.9311 - val_loss: 0.3924 - val_accuracy: 0.9386\n",
            "Epoch 39/50\n",
            "329/329 [==============================] - 2s 7ms/step - loss: 0.2607 - accuracy: 0.9333 - val_loss: 0.4082 - val_accuracy: 0.9351\n",
            "Epoch 40/50\n",
            "329/329 [==============================] - 2s 7ms/step - loss: 0.2590 - accuracy: 0.9349 - val_loss: 0.4399 - val_accuracy: 0.9491\n",
            "Epoch 41/50\n",
            "329/329 [==============================] - 2s 7ms/step - loss: 0.2906 - accuracy: 0.9266 - val_loss: 0.6499 - val_accuracy: 0.9282\n",
            "Epoch 42/50\n",
            "329/329 [==============================] - 2s 7ms/step - loss: 0.3762 - accuracy: 0.9088 - val_loss: 0.6157 - val_accuracy: 0.9041\n",
            "Epoch 43/50\n",
            "329/329 [==============================] - 2s 7ms/step - loss: 0.4123 - accuracy: 0.8953 - val_loss: 0.5599 - val_accuracy: 0.9428\n",
            "Epoch 44/50\n",
            "329/329 [==============================] - 2s 7ms/step - loss: 0.4002 - accuracy: 0.8983 - val_loss: 0.5595 - val_accuracy: 0.9088\n",
            "Epoch 45/50\n",
            "329/329 [==============================] - 2s 7ms/step - loss: 0.3943 - accuracy: 0.8913 - val_loss: 0.6201 - val_accuracy: 0.9105\n",
            "Epoch 46/50\n",
            "329/329 [==============================] - 2s 7ms/step - loss: 0.5800 - accuracy: 0.8606 - val_loss: 1.0949 - val_accuracy: 0.7158\n",
            "Epoch 47/50\n",
            "329/329 [==============================] - 2s 7ms/step - loss: 0.7638 - accuracy: 0.7834 - val_loss: 0.6425 - val_accuracy: 0.8548\n",
            "Epoch 48/50\n",
            "329/329 [==============================] - 2s 7ms/step - loss: 0.7049 - accuracy: 0.8013 - val_loss: 0.8930 - val_accuracy: 0.8464\n",
            "Epoch 49/50\n",
            "329/329 [==============================] - 2s 7ms/step - loss: 0.7640 - accuracy: 0.7937 - val_loss: 0.6630 - val_accuracy: 0.8566\n",
            "Epoch 50/50\n",
            "329/329 [==============================] - 2s 7ms/step - loss: 0.6592 - accuracy: 0.8064 - val_loss: 1.1495 - val_accuracy: 0.8834\n"
          ],
          "name": "stdout"
        }
      ]
    },
    {
      "cell_type": "code",
      "metadata": {
        "id": "7LZVqTiQqlrO",
        "colab_type": "code",
        "outputId": "96f0ad39-f5bf-4e2b-b734-965a764309fc",
        "colab": {
          "base_uri": "https://localhost:8080/",
          "height": 35
        }
      },
      "source": [
        "model.save(\"mnistModel.h5\")\n",
        "print(\"Saved model to disk\")"
      ],
      "execution_count": 28,
      "outputs": [
        {
          "output_type": "stream",
          "text": [
            "Saved model to disk\n"
          ],
          "name": "stdout"
        }
      ]
    },
    {
      "cell_type": "code",
      "metadata": {
        "id": "54QA52suqmqq",
        "colab_type": "code",
        "colab": {}
      },
      "source": [
        ""
      ],
      "execution_count": 0,
      "outputs": []
    },
    {
      "cell_type": "code",
      "metadata": {
        "id": "XQ_r0Baz1yOL",
        "colab_type": "code",
        "colab": {}
      },
      "source": [
        ""
      ],
      "execution_count": 0,
      "outputs": []
    }
  ]
}